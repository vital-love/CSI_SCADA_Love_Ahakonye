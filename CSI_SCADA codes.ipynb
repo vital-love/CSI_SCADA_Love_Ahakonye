{
  "nbformat": 4,
  "nbformat_minor": 0,
  "metadata": {
    "colab": {
      "provenance": []
    },
    "kernelspec": {
      "name": "python3",
      "display_name": "Python 3"
    },
    "language_info": {
      "name": "python"
    }
  },
  "cells": [
    {
      "cell_type": "code",
      "source": [
        "import pandas as pd\n",
        "import numpy as np\n",
        "from sklearn.model_selection import train_test_split\n",
        "from sklearn.tree import DecisionTreeClassifier\n",
        "from sklearn.ensemble import RandomForestClassifier\n",
        "from sklearn.inspection import permutation_importance\n",
        "from scipy.stats import spearmanr\n",
        "from sklearn.preprocessing import StandardScaler\n",
        "from sklearn.impute import SimpleImputer"
      ],
      "metadata": {
        "id": "5pNygpHYqDCl"
      },
      "execution_count": null,
      "outputs": []
    },
    {
      "cell_type": "code",
      "source": [
        "from google.colab import drive\n",
        "drive.mount('/content/drive')"
      ],
      "metadata": {
        "colab": {
          "base_uri": "https://localhost:8080/"
        },
        "id": "wyVM4PELogS3",
        "outputId": "20da8cbb-084a-46a7-eaa8-0e95bf5e3504"
      },
      "execution_count": null,
      "outputs": [
        {
          "output_type": "stream",
          "name": "stdout",
          "text": [
            "Drive already mounted at /content/drive; to attempt to forcibly remount, call drive.mount(\"/content/drive\", force_remount=True).\n"
          ]
        }
      ]
    },
    {
      "cell_type": "code",
      "source": [
        "# Load the data\n",
        "df = pd.read_csv('/content/drive/MyDrive/data1.csv')\n",
        "X = df.drop('Label', axis=1)\n",
        "y = df['Label']"
      ],
      "metadata": {
        "id": "CjKmo34xkJlW"
      },
      "execution_count": null,
      "outputs": []
    },
    {
      "cell_type": "code",
      "source": [
        "# Convert DataFrame to numpy array\n",
        "X_array = X.to_numpy()"
      ],
      "metadata": {
        "id": "7ofHhwtBoUwz"
      },
      "execution_count": null,
      "outputs": []
    },
    {
      "cell_type": "code",
      "source": [
        "# Check for infinite or large values in the data\n",
        "print(np.isnan(X_train).any())\n",
        "print(np.isinf(X_train).any())"
      ],
      "metadata": {
        "id": "vcg5DZq7m_9E"
      },
      "execution_count": null,
      "outputs": []
    },
    {
      "cell_type": "code",
      "source": [
        "# Impute missing values\n",
        "imputer = SimpleImputer(strategy='median')\n",
        "X_train = imputer.fit_transform(X_train)"
      ],
      "metadata": {
        "id": "yuveVzXsnyr1"
      },
      "execution_count": null,
      "outputs": []
    },
    {
      "cell_type": "code",
      "source": [
        "# Normalize the data\n",
        "scaler = StandardScaler()\n",
        "X_train = scaler.fit_transform(X_train)"
      ],
      "metadata": {
        "id": "9gWoMihJnFi0"
      },
      "execution_count": null,
      "outputs": []
    },
    {
      "cell_type": "code",
      "source": [
        "df.head()"
      ],
      "metadata": {
        "id": "nuz3KkZ7kMFG"
      },
      "execution_count": null,
      "outputs": []
    },
    {
      "cell_type": "code",
      "source": [
        "df.replace([np.inf, -np.inf], np.nan, inplace=True)\n",
        "df.fillna(df.mean(), inplace=True)"
      ],
      "metadata": {
        "colab": {
          "base_uri": "https://localhost:8080/"
        },
        "id": "o_MOCeUimFmE",
        "outputId": "a51524b5-f537-41e9-f3f2-52adb0869b53"
      },
      "execution_count": null,
      "outputs": [
        {
          "output_type": "stream",
          "name": "stderr",
          "text": [
            "<ipython-input-28-af33eefb2032>:2: FutureWarning: Dropping of nuisance columns in DataFrame reductions (with 'numeric_only=None') is deprecated; in a future version this will raise TypeError.  Select only valid columns before calling the reduction.\n",
            "  df.fillna(df.mean(), inplace=True)\n"
          ]
        }
      ]
    },
    {
      "cell_type": "code",
      "source": [
        "# Split the data into training and validation sets\n",
        "X_train, X_val, y_train, y_val = train_test_split(X, y, test_size=0.2, random_state=42)"
      ],
      "metadata": {
        "id": "MIFRQBp6kPFm"
      },
      "execution_count": null,
      "outputs": []
    },
    {
      "cell_type": "code",
      "source": [
        "# Train multiple instances of the same model\n",
        "n_models = 10\n",
        "models = []\n",
        "for i in range(n_models):\n",
        "    #model = RandomForestClassifier(n_estimators=100, random_state=i)\n",
        "    model = DecisionTreeClassifier(criterion='entropy', max_depth=20)\n",
        "    model.fit(X_train, y_train)\n",
        "    models.append(model)"
      ],
      "metadata": {
        "id": "fZ_-pFFgkTH-"
      },
      "execution_count": null,
      "outputs": []
    },
    {
      "cell_type": "code",
      "source": [
        "# Calculate feature importance for each model\n",
        "importances = []\n",
        "for model in models:\n",
        "    result = permutation_importance(model, X_val, y_val, n_repeats=10, random_state=0)\n",
        "    importances.append(result.importances_mean)"
      ],
      "metadata": {
        "id": "LXM_4pcVkV6-"
      },
      "execution_count": null,
      "outputs": []
    },
    {
      "cell_type": "code",
      "source": [
        "# Compute the pairwise Spearman correlation coefficient\n",
        "correlations = np.zeros((n_models, n_models))\n",
        "for i in range(n_models):\n",
        "    for j in range(n_models):\n",
        "        correlations[i, j] = spearmanr(importances[i], importances[j]).correlation"
      ],
      "metadata": {
        "id": "yFBRqB4lkYbO"
      },
      "execution_count": null,
      "outputs": []
    },
    {
      "cell_type": "code",
      "source": [
        "# Calculate the characteristic stability index (CSI)\n",
        "csi = np.mean(correlations)"
      ],
      "metadata": {
        "id": "Z9jCzvT4kbee"
      },
      "execution_count": null,
      "outputs": []
    },
    {
      "cell_type": "code",
      "source": [
        "print('Characteristic stability index:', csi)"
      ],
      "metadata": {
        "id": "EWva2oLVkd42"
      },
      "execution_count": null,
      "outputs": []
    },
    {
      "cell_type": "code",
      "source": [
        "def csi(X, t):\n",
        "    \"\"\"\n",
        "    Calculate the Characteristic Stability Index (CSI) for each feature in X.\n",
        "\n",
        "    Parameters:\n",
        "        X (numpy.ndarray): Input data of shape (n_samples, n_features)\n",
        "        t (float): Threshold value\n",
        "\n",
        "    Returns:\n",
        "        numpy.ndarray: CSI values for each feature in X\n",
        "    \"\"\""
      ],
      "metadata": {
        "id": "_vGHLUuZojdG"
      },
      "execution_count": null,
      "outputs": []
    },
    {
      "cell_type": "code",
      "source": [
        "# Load the input data from Google Drive\n",
        "#X = np.load('/content/drive/MyDrive/wustl_iiot_2021.csv')\n",
        "df = pd.read_csv('/content/drive/MyDrive/data1.csv')"
      ],
      "metadata": {
        "id": "T5BkKgw-4yKV"
      },
      "execution_count": null,
      "outputs": []
    },
    {
      "cell_type": "code",
      "source": [
        "# Separate features and target variable\n",
        "X = df.drop('Label', axis=1)\n",
        "y = df['Label']"
      ],
      "metadata": {
        "id": "HFIUqmzAvKap"
      },
      "execution_count": null,
      "outputs": []
    },
    {
      "cell_type": "code",
      "source": [
        "X = df"
      ],
      "metadata": {
        "id": "YbzsBtOiq1C8"
      },
      "execution_count": null,
      "outputs": []
    },
    {
      "cell_type": "code",
      "source": [
        "n_samples, n_features = X.shape"
      ],
      "metadata": {
        "id": "IHfiva3doWvQ"
      },
      "execution_count": null,
      "outputs": []
    },
    {
      "cell_type": "code",
      "source": [
        "# Calculate mean and standard deviation for each feature\n",
        "X_mean = np.mean(X, axis=0)\n",
        "X_std = np.std(X, axis=0)"
      ],
      "metadata": {
        "colab": {
          "base_uri": "https://localhost:8080/"
        },
        "id": "mPhNH7LXoZLv",
        "outputId": "947ef1b6-d370-40f8-c288-b923531767f4"
      },
      "execution_count": null,
      "outputs": [
        {
          "output_type": "stream",
          "name": "stderr",
          "text": [
            "/usr/local/lib/python3.9/dist-packages/numpy/core/fromnumeric.py:3472: FutureWarning: Dropping of nuisance columns in DataFrame reductions (with 'numeric_only=None') is deprecated; in a future version this will raise TypeError.  Select only valid columns before calling the reduction.\n",
            "  return mean(axis=axis, dtype=dtype, out=out, **kwargs)\n",
            "/usr/local/lib/python3.9/dist-packages/numpy/core/fromnumeric.py:3613: FutureWarning: Dropping of nuisance columns in DataFrame reductions (with 'numeric_only=None') is deprecated; in a future version this will raise TypeError.  Select only valid columns before calling the reduction.\n",
            "  return std(axis=axis, dtype=dtype, out=out, ddof=ddof, **kwargs)\n"
          ]
        }
      ]
    },
    {
      "cell_type": "code",
      "source": [
        "print(X_mean.shape)\n",
        "print(X_std.shape)\n",
        "print(X.shape)"
      ],
      "metadata": {
        "colab": {
          "base_uri": "https://localhost:8080/"
        },
        "id": "80XsgJyCs6ba",
        "outputId": "7b7d74c8-df65-47f8-98d7-ea2ce7e6109a"
      },
      "execution_count": null,
      "outputs": [
        {
          "output_type": "stream",
          "name": "stdout",
          "text": [
            "(73,)\n",
            "(73,)\n",
            "(4615, 74)\n"
          ]
        }
      ]
    },
    {
      "cell_type": "code",
      "source": [
        "#print(len(X_mean), len(X_std))\n",
        "#for j in range(n_features):\n",
        "    #print(j)\n",
        "    #csi_values[j] = np.mean(np.abs((X.iloc[:, j] - X_mean[j]) / X_std[j])) > t"
      ],
      "metadata": {
        "id": "9UHQHmFstDxq"
      },
      "execution_count": null,
      "outputs": []
    },
    {
      "cell_type": "code",
      "source": [
        "def calculate_csi(X):\n",
        "    numeric_cols = X.select_dtypes(include=np.number).columns.tolist()\n",
        "    n_features = len(numeric_cols)\n",
        "    X = X[numeric_cols]\n",
        "    X_mean = X.mean(axis=0)\n",
        "    X_std = X.std(axis=0)\n",
        "    t = 0.5\n",
        "    csi_values = np.zeros(n_features)\n",
        "    for j in range(n_features):\n",
        "        csi_values[j] = np.mean(np.abs((X.iloc[:, j] - X_mean[j]) / X_std[j])) > t\n",
        "    return csi_values\n"
      ],
      "metadata": {
        "id": "zR9HxneK0D6c"
      },
      "execution_count": null,
      "outputs": []
    },
    {
      "cell_type": "code",
      "source": [
        "csi_values = calculate_csi(X)"
      ],
      "metadata": {
        "id": "1Qo1IIACwusQ"
      },
      "execution_count": null,
      "outputs": []
    },
    {
      "cell_type": "code",
      "source": [
        "print (csi_values)"
      ],
      "metadata": {
        "colab": {
          "base_uri": "https://localhost:8080/"
        },
        "id": "BL1SFi090J38",
        "outputId": "1605601e-123c-467e-9414-afbcc080ad4a"
      },
      "execution_count": null,
      "outputs": [
        {
          "output_type": "stream",
          "name": "stdout",
          "text": [
            "[1. 0. 1. 0. 1. 0. 1. 1. 1. 1. 1. 1. 1. 0. 1. 1. 0. 0. 1. 0. 1. 0. 1. 0.\n",
            " 1. 1. 1. 1. 1. 1. 1. 0. 1. 1. 0. 0. 1. 1. 0. 1. 0. 1. 0. 1. 1. 1. 1. 1.\n",
            " 1. 1. 0. 1. 1. 1. 1. 1. 0. 1. 0. 1. 0. 1. 1. 1. 1. 1. 1. 1. 0. 1. 1. 0.\n",
            " 0.]\n"
          ]
        }
      ]
    },
    {
      "cell_type": "code",
      "source": [
        "import numpy as np\n",
        "import seaborn as sns\n",
        "import matplotlib.pyplot as plt\n",
        "\n",
        "# Define the CSI values as a 1D numpy array\n",
        "csi_values = np.array([1., 0., 1., 0., 1., 0., 1., 1., 1., 1., 1., 1., 1., 0., 1., 1., 0., 0., 1., 0.,\n",
        "                       1., 0., 1., 0., 1., 1., 1., 1., 1., 1., 0., 1., 1., 0., 0., 1., 1., 0., 1.,\n",
        "                       0., 1., 0., 1., 1., 1., 1., 1., 1., 1., 0., 1., 1., 1., 1., 1., 0., 1., 0., 1.,\n",
        "                       0., 1., 1., 1., 1., 1., 1., 1., 0., 1., 1., 0., 0.])\n",
        "\n",
        "# Reshape the CSI values into a 2D numpy array of shape (8, 9)\n",
        "csi_matrix = csi_values.reshape(8, 9)\n",
        "\n",
        "# Set the font size and style of the plot\n",
        "sns.set(font_scale=1.2, style='whitegrid')\n",
        "\n",
        "# Create a heatmap plot using seaborn with custom settings\n",
        "fig, ax = plt.subplots(figsize=(8,6))\n",
        "sns.heatmap(csi_matrix, cmap=\"Blues\", annot=True, fmt=\".1f\", cbar_kws={'label': 'CSI Value'}, ax=ax)\n",
        "\n",
        "# Set the title and axis labels\n",
        "ax.set_title(\"CSI Values Heatmap\", fontsize=18)\n",
        "ax.set_xlabel(\"Feature Index\", fontsize=14)\n",
        "ax.set_ylabel(\"Sample Index\", fontsize=14)\n",
        "\n",
        "# Show the plot\n",
        "plt.show()"
      ],
      "metadata": {
        "colab": {
          "base_uri": "https://localhost:8080/",
          "height": 418
        },
        "id": "sVxZk8lS06QM",
        "outputId": "af504027-c162-477b-f510-f82f97467bdc"
      },
      "execution_count": null,
      "outputs": [
        {
          "output_type": "display_data",
          "data": {
            "text/plain": [
              "<Figure size 576x432 with 2 Axes>"
            ],
            "image/png": "[encoded data removed]"
          },
          "metadata": {}
        }
      ]
    },
    {
      "cell_type": "code",
      "source": [
        "!pip install control"
      ],
      "metadata": {
        "colab": {
          "base_uri": "https://localhost:8080/"
        },
        "id": "vv3IdvZkmpU1",
        "outputId": "dc46fd56-f8bb-4984-8451-4cebc347223f"
      },
      "execution_count": null,
      "outputs": [
        {
          "output_type": "stream",
          "name": "stdout",
          "text": [
            "Looking in indexes: https://pypi.org/simple, https://us-python.pkg.dev/colab-wheels/public/simple/\n",
            "Collecting control\n",
            "  Downloading control-0.9.3.post2-py3-none-any.whl (432 kB)\n",
            "\u001b[2K     \u001b[90m━━━━━━━━━━━━━━━━━━━━━━━━━━━━━━━━━━━━━━━\u001b[0m \u001b[32m432.8/432.8 KB\u001b[0m \u001b[31m7.8 MB/s\u001b[0m eta \u001b[36m0:00:00\u001b[0m\n",
            "\u001b[?25hRequirement already satisfied: matplotlib in /usr/local/lib/python3.9/dist-packages (from control) (3.7.1)\n",
            "Requirement already satisfied: numpy in /usr/local/lib/python3.9/dist-packages (from control) (1.22.4)\n",
            "Requirement already satisfied: scipy>=1.3 in /usr/local/lib/python3.9/dist-packages (from control) (1.10.1)\n",
            "Requirement already satisfied: importlib-resources>=3.2.0 in /usr/local/lib/python3.9/dist-packages (from matplotlib->control) (5.12.0)\n",
            "Requirement already satisfied: packaging>=20.0 in /usr/local/lib/python3.9/dist-packages (from matplotlib->control) (23.0)\n",
            "Requirement already satisfied: cycler>=0.10 in /usr/local/lib/python3.9/dist-packages (from matplotlib->control) (0.11.0)\n",
            "Requirement already satisfied: kiwisolver>=1.0.1 in /usr/local/lib/python3.9/dist-packages (from matplotlib->control) (1.4.4)\n",
            "Requirement already satisfied: python-dateutil>=2.7 in /usr/local/lib/python3.9/dist-packages (from matplotlib->control) (2.8.2)\n",
            "Requirement already satisfied: fonttools>=4.22.0 in /usr/local/lib/python3.9/dist-packages (from matplotlib->control) (4.39.2)\n",
            "Requirement already satisfied: contourpy>=1.0.1 in /usr/local/lib/python3.9/dist-packages (from matplotlib->control) (1.0.7)\n",
            "Requirement already satisfied: pillow>=6.2.0 in /usr/local/lib/python3.9/dist-packages (from matplotlib->control) (8.4.0)\n",
            "Requirement already satisfied: pyparsing>=2.3.1 in /usr/local/lib/python3.9/dist-packages (from matplotlib->control) (3.0.9)\n",
            "Requirement already satisfied: zipp>=3.1.0 in /usr/local/lib/python3.9/dist-packages (from importlib-resources>=3.2.0->matplotlib->control) (3.15.0)\n",
            "Requirement already satisfied: six>=1.5 in /usr/local/lib/python3.9/dist-packages (from python-dateutil>=2.7->matplotlib->control) (1.16.0)\n",
            "Installing collected packages: control\n",
            "Successfully installed control-0.9.3.post2\n"
          ]
        }
      ]
    },
    {
      "cell_type": "code",
      "source": [
        "import pandas as pd\n",
        "import control\n",
        "import numpy as np\n",
        "from google.colab import drive"
      ],
      "metadata": {
        "id": "Msn0d906kl6u"
      },
      "execution_count": null,
      "outputs": []
    },
    {
      "cell_type": "code",
      "source": [
        "#from google.colab import drive\n",
        "drive.mount('/content/drive')"
      ],
      "metadata": {
        "colab": {
          "base_uri": "https://localhost:8080/"
        },
        "id": "sh7FTImEkk13",
        "outputId": "00db6018-f1a9-4b17-8002-e5db4c2b161e"
      },
      "execution_count": null,
      "outputs": [
        {
          "output_type": "stream",
          "name": "stdout",
          "text": [
            "Drive already mounted at /content/drive; to attempt to forcibly remount, call drive.mount(\"/content/drive\", force_remount=True).\n"
          ]
        }
      ]
    },
    {
      "cell_type": "code",
      "source": [
        "# Define the path to your dataset in Google Drive\n",
        "df = pd.read_csv('/content/drive/MyDrive/wustl_iiot_2021.csv')"
      ],
      "metadata": {
        "id": "zuJpDd7tkojO"
      },
      "execution_count": null,
      "outputs": []
    },
    {
      "cell_type": "code",
      "source": [
        "df.head()"
      ],
      "metadata": {
        "colab": {
          "base_uri": "https://localhost:8080/",
          "height": 300
        },
        "id": "H7q8V9R4nRe9",
        "outputId": "01744871-581e-404e-e5bb-08ba5463ab96"
      },
      "execution_count": null,
      "outputs": [
        {
          "output_type": "execute_result",
          "data": {
            "text/plain": [
              "   Mean  Sport  Dport  SrcPkts  DstPkts  TotPkts  DstBytes  SrcBytes  \\\n",
              "0     0  59034    502       10        8       18       508       644   \n",
              "1     0  55841    502       10        8       18       508       644   \n",
              "2     0  63774    502       10        8       18       508       644   \n",
              "3     0  61771     80        4        0        4         0       248   \n",
              "4     3      0      0       14        0       14         0       868   \n",
              "\n",
              "   TotBytes       SrcLoad  ...  SAppBytes  DAppBytes  TotAppByte    SynAck  \\\n",
              "0      1152  87486.093750  ...         24         20          44  0.001176   \n",
              "1      1152  88077.296880  ...         24         20          44  0.001308   \n",
              "2      1152  89587.390630  ...         24         20          44  0.000690   \n",
              "3       248   1672.746582  ...          0          0           0  0.000000   \n",
              "4       868   1842.256714  ...        476          0         476  0.000000   \n",
              "\n",
              "    RunTime  sTos   SrcJitAct  DstJitAct  Traffic  Target  \n",
              "0  0.053037     0    0.000000        0.0   normal       0  \n",
              "1  0.052681     0    0.000000        0.0   normal       0  \n",
              "2  0.051793     0    0.000000        0.0   normal       0  \n",
              "3  0.889555     0  419.338813        0.0      DoS       1  \n",
              "4  3.500055     0  525.146562        0.0   normal       0  \n",
              "\n",
              "[5 rows x 43 columns]"
            ],
            "text/html": [
              "\n",
              "  <div id=\"df-8b63013e-365d-4f65-b50a-43d0d08c239f\">\n",
              "    <div class=\"colab-df-container\">\n",
              "      <div>\n",
              "<style scoped>\n",
              "    .dataframe tbody tr th:only-of-type {\n",
              "        vertical-align: middle;\n",
              "    }\n",
              "\n",
              "    .dataframe tbody tr th {\n",
              "        vertical-align: top;\n",
              "    }\n",
              "\n",
              "    .dataframe thead th {\n",
              "        text-align: right;\n",
              "    }\n",
              "</style>\n",
              "<table border=\"1\" class=\"dataframe\">\n",
              "  <thead>\n",
              "    <tr style=\"text-align: right;\">\n",
              "      <th></th>\n",
              "      <th>Mean</th>\n",
              "      <th>Sport</th>\n",
              "      <th>Dport</th>\n",
              "      <th>SrcPkts</th>\n",
              "      <th>DstPkts</th>\n",
              "      <th>TotPkts</th>\n",
              "      <th>DstBytes</th>\n",
              "      <th>SrcBytes</th>\n",
              "      <th>TotBytes</th>\n",
              "      <th>SrcLoad</th>\n",
              "      <th>...</th>\n",
              "      <th>SAppBytes</th>\n",
              "      <th>DAppBytes</th>\n",
              "      <th>TotAppByte</th>\n",
              "      <th>SynAck</th>\n",
              "      <th>RunTime</th>\n",
              "      <th>sTos</th>\n",
              "      <th>SrcJitAct</th>\n",
              "      <th>DstJitAct</th>\n",
              "      <th>Traffic</th>\n",
              "      <th>Target</th>\n",
              "    </tr>\n",
              "  </thead>\n",
              "  <tbody>\n",
              "    <tr>\n",
              "      <th>0</th>\n",
              "      <td>0</td>\n",
              "      <td>59034</td>\n",
              "      <td>502</td>\n",
              "      <td>10</td>\n",
              "      <td>8</td>\n",
              "      <td>18</td>\n",
              "      <td>508</td>\n",
              "      <td>644</td>\n",
              "      <td>1152</td>\n",
              "      <td>87486.093750</td>\n",
              "      <td>...</td>\n",
              "      <td>24</td>\n",
              "      <td>20</td>\n",
              "      <td>44</td>\n",
              "      <td>0.001176</td>\n",
              "      <td>0.053037</td>\n",
              "      <td>0</td>\n",
              "      <td>0.000000</td>\n",
              "      <td>0.0</td>\n",
              "      <td>normal</td>\n",
              "      <td>0</td>\n",
              "    </tr>\n",
              "    <tr>\n",
              "      <th>1</th>\n",
              "      <td>0</td>\n",
              "      <td>55841</td>\n",
              "      <td>502</td>\n",
              "      <td>10</td>\n",
              "      <td>8</td>\n",
              "      <td>18</td>\n",
              "      <td>508</td>\n",
              "      <td>644</td>\n",
              "      <td>1152</td>\n",
              "      <td>88077.296880</td>\n",
              "      <td>...</td>\n",
              "      <td>24</td>\n",
              "      <td>20</td>\n",
              "      <td>44</td>\n",
              "      <td>0.001308</td>\n",
              "      <td>0.052681</td>\n",
              "      <td>0</td>\n",
              "      <td>0.000000</td>\n",
              "      <td>0.0</td>\n",
              "      <td>normal</td>\n",
              "      <td>0</td>\n",
              "    </tr>\n",
              "    <tr>\n",
              "      <th>2</th>\n",
              "      <td>0</td>\n",
              "      <td>63774</td>\n",
              "      <td>502</td>\n",
              "      <td>10</td>\n",
              "      <td>8</td>\n",
              "      <td>18</td>\n",
              "      <td>508</td>\n",
              "      <td>644</td>\n",
              "      <td>1152</td>\n",
              "      <td>89587.390630</td>\n",
              "      <td>...</td>\n",
              "      <td>24</td>\n",
              "      <td>20</td>\n",
              "      <td>44</td>\n",
              "      <td>0.000690</td>\n",
              "      <td>0.051793</td>\n",
              "      <td>0</td>\n",
              "      <td>0.000000</td>\n",
              "      <td>0.0</td>\n",
              "      <td>normal</td>\n",
              "      <td>0</td>\n",
              "    </tr>\n",
              "    <tr>\n",
              "      <th>3</th>\n",
              "      <td>0</td>\n",
              "      <td>61771</td>\n",
              "      <td>80</td>\n",
              "      <td>4</td>\n",
              "      <td>0</td>\n",
              "      <td>4</td>\n",
              "      <td>0</td>\n",
              "      <td>248</td>\n",
              "      <td>248</td>\n",
              "      <td>1672.746582</td>\n",
              "      <td>...</td>\n",
              "      <td>0</td>\n",
              "      <td>0</td>\n",
              "      <td>0</td>\n",
              "      <td>0.000000</td>\n",
              "      <td>0.889555</td>\n",
              "      <td>0</td>\n",
              "      <td>419.338813</td>\n",
              "      <td>0.0</td>\n",
              "      <td>DoS</td>\n",
              "      <td>1</td>\n",
              "    </tr>\n",
              "    <tr>\n",
              "      <th>4</th>\n",
              "      <td>3</td>\n",
              "      <td>0</td>\n",
              "      <td>0</td>\n",
              "      <td>14</td>\n",
              "      <td>0</td>\n",
              "      <td>14</td>\n",
              "      <td>0</td>\n",
              "      <td>868</td>\n",
              "      <td>868</td>\n",
              "      <td>1842.256714</td>\n",
              "      <td>...</td>\n",
              "      <td>476</td>\n",
              "      <td>0</td>\n",
              "      <td>476</td>\n",
              "      <td>0.000000</td>\n",
              "      <td>3.500055</td>\n",
              "      <td>0</td>\n",
              "      <td>525.146562</td>\n",
              "      <td>0.0</td>\n",
              "      <td>normal</td>\n",
              "      <td>0</td>\n",
              "    </tr>\n",
              "  </tbody>\n",
              "</table>\n",
              "<p>5 rows × 43 columns</p>\n",
              "</div>\n",
              "      <button class=\"colab-df-convert\" onclick=\"convertToInteractive('df-8b63013e-365d-4f65-b50a-43d0d08c239f')\"\n",
              "              title=\"Convert this dataframe to an interactive table.\"\n",
              "              style=\"display:none;\">\n",
              "        \n",
              "  <svg xmlns=\"http://www.w3.org/2000/svg\" height=\"24px\"viewBox=\"0 0 24 24\"\n",
              "       width=\"24px\">\n",
              "    <path d=\"M0 0h24v24H0V0z\" fill=\"none\"/>\n",
              "    <path d=\"M18.56 5.44l.94 2.06.94-2.06 2.06-.94-2.06-.94-.94-2.06-.94 2.06-2.06.94zm-11 1L8.5 8.5l.94-2.06 2.06-.94-2.06-.94L8.5 2.5l-.94 2.06-2.06.94zm10 10l.94 2.06.94-2.06 2.06-.94-2.06-.94-.94-2.06-.94 2.06-2.06.94z\"/><path d=\"M17.41 7.96l-1.37-1.37c-.4-.4-.92-.59-1.43-.59-.52 0-1.04.2-1.43.59L10.3 9.45l-7.72 7.72c-.78.78-.78 2.05 0 2.83L4 21.41c.39.39.9.59 1.41.59.51 0 1.02-.2 1.41-.59l7.78-7.78 2.81-2.81c.8-.78.8-2.07 0-2.86zM5.41 20L4 18.59l7.72-7.72 1.47 1.35L5.41 20z\"/>\n",
              "  </svg>\n",
              "      </button>\n",
              "      \n",
              "  <style>\n",
              "    .colab-df-container {\n",
              "      display:flex;\n",
              "      flex-wrap:wrap;\n",
              "      gap: 12px;\n",
              "    }\n",
              "\n",
              "    .colab-df-convert {\n",
              "      background-color: #E8F0FE;\n",
              "      border: none;\n",
              "      border-radius: 50%;\n",
              "      cursor: pointer;\n",
              "      display: none;\n",
              "      fill: #1967D2;\n",
              "      height: 32px;\n",
              "      padding: 0 0 0 0;\n",
              "      width: 32px;\n",
              "    }\n",
              "\n",
              "    .colab-df-convert:hover {\n",
              "      background-color: #E2EBFA;\n",
              "      box-shadow: 0px 1px 2px rgba(60, 64, 67, 0.3), 0px 1px 3px 1px rgba(60, 64, 67, 0.15);\n",
              "      fill: #174EA6;\n",
              "    }\n",
              "\n",
              "    [theme=dark] .colab-df-convert {\n",
              "      background-color: #3B4455;\n",
              "      fill: #D2E3FC;\n",
              "    }\n",
              "\n",
              "    [theme=dark] .colab-df-convert:hover {\n",
              "      background-color: #434B5C;\n",
              "      box-shadow: 0px 1px 3px 1px rgba(0, 0, 0, 0.15);\n",
              "      filter: drop-shadow(0px 1px 2px rgba(0, 0, 0, 0.3));\n",
              "      fill: #FFFFFF;\n",
              "    }\n",
              "  </style>\n",
              "\n",
              "      <script>\n",
              "        const buttonEl =\n",
              "          document.querySelector('#df-8b63013e-365d-4f65-b50a-43d0d08c239f button.colab-df-convert');\n",
              "        buttonEl.style.display =\n",
              "          google.colab.kernel.accessAllowed ? 'block' : 'none';\n",
              "\n",
              "        async function convertToInteractive(key) {\n",
              "          const element = document.querySelector('#df-8b63013e-365d-4f65-b50a-43d0d08c239f');\n",
              "          const dataTable =\n",
              "            await google.colab.kernel.invokeFunction('convertToInteractive',\n",
              "                                                     [key], {});\n",
              "          if (!dataTable) return;\n",
              "\n",
              "          const docLinkHtml = 'Like what you see? Visit the ' +\n",
              "            '<a target=\"_blank\" href=https://colab.research.google.com/notebooks/data_table.ipynb>data table notebook</a>'\n",
              "            + ' to learn more about interactive tables.';\n",
              "          element.innerHTML = '';\n",
              "          dataTable['output_type'] = 'display_data';\n",
              "          await google.colab.output.renderOutput(dataTable, element);\n",
              "          const docLink = document.createElement('div');\n",
              "          docLink.innerHTML = docLinkHtml;\n",
              "          element.appendChild(docLink);\n",
              "        }\n",
              "      </script>\n",
              "    </div>\n",
              "  </div>\n",
              "  "
            ]
          },
          "metadata": {},
          "execution_count": 63
        }
      ]
    },
    {
      "cell_type": "code",
      "source": [
        "df.replace([np.inf, -np.inf], np.nan, inplace=True)\n",
        "df.fillna(df.mean(), inplace=True)"
      ],
      "metadata": {
        "colab": {
          "base_uri": "https://localhost:8080/"
        },
        "id": "FjjuaZ3tnlxk",
        "outputId": "a60add15-ecb9-4cbd-b2c2-8ea2c0e00e76"
      },
      "execution_count": null,
      "outputs": [
        {
          "output_type": "stream",
          "name": "stderr",
          "text": [
            "<ipython-input-7-af33eefb2032>:2: FutureWarning: Dropping of nuisance columns in DataFrame reductions (with 'numeric_only=None') is deprecated; in a future version this will raise TypeError.  Select only valid columns before calling the reduction.\n",
            "  df.fillna(df.mean(), inplace=True)\n"
          ]
        }
      ]
    },
    {
      "cell_type": "code",
      "source": [
        "# Separate features and target variable\n",
        "X = df.drop('Traffic', axis=1)\n",
        "y = df['Traffic']"
      ],
      "metadata": {
        "id": "IpiH3cWqnr9r"
      },
      "execution_count": null,
      "outputs": []
    },
    {
      "cell_type": "code",
      "source": [
        "# Convert DataFrame to numpy array\n",
        "X_array = X.to_numpy()"
      ],
      "metadata": {
        "id": "RJrKxhhVqsJJ"
      },
      "execution_count": null,
      "outputs": []
    },
    {
      "cell_type": "code",
      "source": [
        "y.shape"
      ],
      "metadata": {
        "colab": {
          "base_uri": "https://localhost:8080/"
        },
        "id": "OmGHJ-4fqMr5",
        "outputId": "cab6deff-a076-469f-f7bc-1ee105ea8e0a"
      },
      "execution_count": null,
      "outputs": [
        {
          "output_type": "execute_result",
          "data": {
            "text/plain": [
              "(1048575,)"
            ]
          },
          "metadata": {},
          "execution_count": 53
        }
      ]
    },
    {
      "cell_type": "code",
      "source": [
        "# Define m as the number of output variables in y\n",
        "m = 1\n",
        "\n",
        "# Define n as the number of input variables in X\n",
        "n = X.shape[1]\n",
        "\n",
        "# Convert y to a numpy array if it is not already one\n",
        "if not isinstance(y, np.ndarray):\n",
        "    y = y.to_numpy().flatten()\n",
        "\n",
        "# Construct transfer function\n",
        "num = []\n",
        "for j in range(n):\n",
        "    num.append(X.iloc[:, j].to_numpy())\n",
        "den = [1]\n",
        "tf = control.tf(num, den)"
      ],
      "metadata": {
        "colab": {
          "base_uri": "https://localhost:8080/",
          "height": 364
        },
        "id": "Y8CwBRIxzj4a",
        "outputId": "05fb999d-1f05-4054-abad-d44b877f8a5e"
      },
      "execution_count": null,
      "outputs": [
        {
          "output_type": "error",
          "ename": "TypeError",
          "evalue": "ignored",
          "traceback": [
            "\u001b[0;31m---------------------------------------------------------------------------\u001b[0m",
            "\u001b[0;31mTypeError\u001b[0m                                 Traceback (most recent call last)",
            "\u001b[0;32m<ipython-input-76-c1a98e1712b3>\u001b[0m in \u001b[0;36m<module>\u001b[0;34m\u001b[0m\n\u001b[1;32m     14\u001b[0m     \u001b[0mnum\u001b[0m\u001b[0;34m.\u001b[0m\u001b[0mappend\u001b[0m\u001b[0;34m(\u001b[0m\u001b[0mX\u001b[0m\u001b[0;34m.\u001b[0m\u001b[0miloc\u001b[0m\u001b[0;34m[\u001b[0m\u001b[0;34m:\u001b[0m\u001b[0;34m,\u001b[0m \u001b[0mj\u001b[0m\u001b[0;34m]\u001b[0m\u001b[0;34m.\u001b[0m\u001b[0mto_numpy\u001b[0m\u001b[0;34m(\u001b[0m\u001b[0;34m)\u001b[0m\u001b[0;34m)\u001b[0m\u001b[0;34m\u001b[0m\u001b[0;34m\u001b[0m\u001b[0m\n\u001b[1;32m     15\u001b[0m \u001b[0mden\u001b[0m \u001b[0;34m=\u001b[0m \u001b[0;34m[\u001b[0m\u001b[0;36m1\u001b[0m\u001b[0;34m]\u001b[0m\u001b[0;34m\u001b[0m\u001b[0;34m\u001b[0m\u001b[0m\n\u001b[0;32m---> 16\u001b[0;31m \u001b[0mtf\u001b[0m \u001b[0;34m=\u001b[0m \u001b[0mcontrol\u001b[0m\u001b[0;34m.\u001b[0m\u001b[0mtf\u001b[0m\u001b[0;34m(\u001b[0m\u001b[0mnum\u001b[0m\u001b[0;34m,\u001b[0m \u001b[0mden\u001b[0m\u001b[0;34m)\u001b[0m\u001b[0;34m\u001b[0m\u001b[0;34m\u001b[0m\u001b[0m\n\u001b[0m",
            "\u001b[0;32m/usr/local/lib/python3.9/dist-packages/control/xferfcn.py\u001b[0m in \u001b[0;36mtf\u001b[0;34m(*args, **kwargs)\u001b[0m\n\u001b[1;32m   1548\u001b[0m \u001b[0;34m\u001b[0m\u001b[0m\n\u001b[1;32m   1549\u001b[0m     \u001b[0;32mif\u001b[0m \u001b[0mlen\u001b[0m\u001b[0;34m(\u001b[0m\u001b[0margs\u001b[0m\u001b[0;34m)\u001b[0m \u001b[0;34m==\u001b[0m \u001b[0;36m2\u001b[0m \u001b[0;32mor\u001b[0m \u001b[0mlen\u001b[0m\u001b[0;34m(\u001b[0m\u001b[0margs\u001b[0m\u001b[0;34m)\u001b[0m \u001b[0;34m==\u001b[0m \u001b[0;36m3\u001b[0m\u001b[0;34m:\u001b[0m\u001b[0;34m\u001b[0m\u001b[0;34m\u001b[0m\u001b[0m\n\u001b[0;32m-> 1550\u001b[0;31m         \u001b[0;32mreturn\u001b[0m \u001b[0mTransferFunction\u001b[0m\u001b[0;34m(\u001b[0m\u001b[0;34m*\u001b[0m\u001b[0margs\u001b[0m\u001b[0;34m,\u001b[0m \u001b[0;34m**\u001b[0m\u001b[0mkwargs\u001b[0m\u001b[0;34m)\u001b[0m\u001b[0;34m\u001b[0m\u001b[0;34m\u001b[0m\u001b[0m\n\u001b[0m\u001b[1;32m   1551\u001b[0m \u001b[0;34m\u001b[0m\u001b[0m\n\u001b[1;32m   1552\u001b[0m     \u001b[0;32melif\u001b[0m \u001b[0mlen\u001b[0m\u001b[0;34m(\u001b[0m\u001b[0margs\u001b[0m\u001b[0;34m)\u001b[0m \u001b[0;34m==\u001b[0m \u001b[0;36m1\u001b[0m \u001b[0;32mand\u001b[0m \u001b[0misinstance\u001b[0m\u001b[0;34m(\u001b[0m\u001b[0margs\u001b[0m\u001b[0;34m[\u001b[0m\u001b[0;36m0\u001b[0m\u001b[0;34m]\u001b[0m\u001b[0;34m,\u001b[0m \u001b[0mstr\u001b[0m\u001b[0;34m)\u001b[0m\u001b[0;34m:\u001b[0m\u001b[0;34m\u001b[0m\u001b[0;34m\u001b[0m\u001b[0m\n",
            "\u001b[0;32m/usr/local/lib/python3.9/dist-packages/control/xferfcn.py\u001b[0m in \u001b[0;36m__init__\u001b[0;34m(self, *args, **kwargs)\u001b[0m\n\u001b[1;32m    193\u001b[0m                              % len(args))\n\u001b[1;32m    194\u001b[0m \u001b[0;34m\u001b[0m\u001b[0m\n\u001b[0;32m--> 195\u001b[0;31m         \u001b[0mnum\u001b[0m \u001b[0;34m=\u001b[0m \u001b[0m_clean_part\u001b[0m\u001b[0;34m(\u001b[0m\u001b[0mnum\u001b[0m\u001b[0;34m)\u001b[0m\u001b[0;34m\u001b[0m\u001b[0;34m\u001b[0m\u001b[0m\n\u001b[0m\u001b[1;32m    196\u001b[0m         \u001b[0mden\u001b[0m \u001b[0;34m=\u001b[0m \u001b[0m_clean_part\u001b[0m\u001b[0;34m(\u001b[0m\u001b[0mden\u001b[0m\u001b[0;34m)\u001b[0m\u001b[0;34m\u001b[0m\u001b[0;34m\u001b[0m\u001b[0m\n\u001b[1;32m    197\u001b[0m \u001b[0;34m\u001b[0m\u001b[0m\n",
            "\u001b[0;32m/usr/local/lib/python3.9/dist-packages/control/xferfcn.py\u001b[0m in \u001b[0;36m_clean_part\u001b[0;34m(data)\u001b[0m\n\u001b[1;32m   1776\u001b[0m         \u001b[0;31m# If the user passed in anything else, then it's unclear what\u001b[0m\u001b[0;34m\u001b[0m\u001b[0;34m\u001b[0m\u001b[0m\n\u001b[1;32m   1777\u001b[0m         \u001b[0;31m# the meaning is.\u001b[0m\u001b[0;34m\u001b[0m\u001b[0;34m\u001b[0m\u001b[0m\n\u001b[0;32m-> 1778\u001b[0;31m         raise TypeError(\n\u001b[0m\u001b[1;32m   1779\u001b[0m             \u001b[0;34m\"The numerator and denominator inputs must be scalars or vectors \"\u001b[0m\u001b[0;34m\u001b[0m\u001b[0;34m\u001b[0m\u001b[0m\n\u001b[1;32m   1780\u001b[0m             \"(for\\nSISO), or lists of lists of vectors (for SISO or MIMO).\")\n",
            "\u001b[0;31mTypeError\u001b[0m: The numerator and denominator inputs must be scalars or vectors (for\nSISO), or lists of lists of vectors (for SISO or MIMO)."
          ]
        }
      ]
    },
    {
      "cell_type": "code",
      "source": [
        "# Calculate poles\n",
        "poles = np.roots(den)"
      ],
      "metadata": {
        "id": "vGIFLfRfoKAy"
      },
      "execution_count": null,
      "outputs": []
    },
    {
      "cell_type": "code",
      "source": [
        "# Find dominant pole\n",
        "if np.real(poles[0]) > np.real(poles[1]):\n",
        "    dominant_pole = poles[0]\n",
        "else:\n",
        "    dominant_pole = poles[1]"
      ],
      "metadata": {
        "id": "-lGEk03xoN9y"
      },
      "execution_count": null,
      "outputs": []
    },
    {
      "cell_type": "code",
      "source": [
        "# Calculate CSI\n",
        "csi = abs(np.real(dominant_pole) / np.imag(dominant_pole))\n",
        "\n",
        "print(\"CSI: \", csi)"
      ],
      "metadata": {
        "id": "_wA7N5o6oR78"
      },
      "execution_count": null,
      "outputs": []
    },
    {
      "cell_type": "code",
      "source": [
        "# Convert DataFrame to numpy array\n",
        "X_array = X.to_numpy()"
      ],
      "metadata": {
        "id": "-T92sdRNn6C0"
      },
      "execution_count": null,
      "outputs": []
    },
    {
      "cell_type": "code",
      "source": [
        "# Split the data into training and testing sets\n",
        "X_train, X_test, y_train, y_test = train_test_split(df.drop('Label', axis=1), df['Label'], test_size=0.2)"
      ],
      "metadata": {
        "id": "BmKlnlD6oAVf"
      },
      "execution_count": null,
      "outputs": []
    },
    {
      "cell_type": "code",
      "source": [
        "# Split dataset into input and output variables\n",
        "X = dataset.drop('output', axis=1)\n",
        "y = dataset['output']"
      ],
      "metadata": {
        "id": "HS95Rc7MmzIc"
      },
      "execution_count": null,
      "outputs": []
    }
  ]
}